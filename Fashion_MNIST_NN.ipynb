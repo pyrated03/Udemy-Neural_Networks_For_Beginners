{
  "nbformat": 4,
  "nbformat_minor": 0,
  "metadata": {
    "colab": {
      "name": "Udemy_ANI_Course_Fashion_MNIST.ipynb",
      "provenance": []
    },
    "kernelspec": {
      "name": "python3",
      "display_name": "Python 3"
    },
    "language_info": {
      "name": "python"
    },
    "accelerator": "GPU"
  },
  "cells": [
    {
      "cell_type": "code",
      "metadata": {
        "id": "i_pX-W0FVR9R"
      },
      "source": [
        "import numpy as np\n",
        "import pandas as pd\n",
        "import tensorflow as tf\n",
        "import keras\n",
        "import matplotlib.pyplot as plt\n",
        "\n",
        "from sklearn.model_selection import train_test_split\n"
      ],
      "execution_count": 1,
      "outputs": []
    },
    {
      "cell_type": "markdown",
      "metadata": {
        "id": "R3t12tmYfU40"
      },
      "source": [
        "Dataset of 60,000 28x28 grayscale images of 10 fashion categories, along with a test set of 10,000 images. The class labels are:\n",
        "\n",
        "| Label |\tDescription |\n",
        "--- | --- |\n",
        "| 0\t| T-shirt/top\n",
        "| 1\t| Trouser\n",
        "| 2\t| Pullover\n",
        "| 3\t| Dress\n",
        "| 4\t| Coat\n",
        "| 5\t| Sandal\n",
        "| 6\t| Shirt\n",
        "| 7\t| Sneaker\n",
        "| 8\t| Bag\n",
        "| 9\t| Ankle boot\n",
        "\n"
      ]
    },
    {
      "cell_type": "code",
      "metadata": {
        "colab": {
          "base_uri": "https://localhost:8080/",
          "height": 415
        },
        "id": "erPT21KnWXfl",
        "outputId": "6744058e-5803-4bbe-9230-4f7d4286dd42"
      },
      "source": [
        "fashion_mnist = keras.datasets.fashion_mnist\n",
        "(X_train_raw,Y_train_raw), (X_test_raw,Y_test_raw) = fashion_mnist.load_data()\n",
        "plt.imshow(X_train_raw[100])"
      ],
      "execution_count": 2,
      "outputs": [
        {
          "output_type": "stream",
          "text": [
            "Downloading data from https://storage.googleapis.com/tensorflow/tf-keras-datasets/train-labels-idx1-ubyte.gz\n",
            "32768/29515 [=================================] - 0s 0us/step\n",
            "Downloading data from https://storage.googleapis.com/tensorflow/tf-keras-datasets/train-images-idx3-ubyte.gz\n",
            "26427392/26421880 [==============================] - 0s 0us/step\n",
            "Downloading data from https://storage.googleapis.com/tensorflow/tf-keras-datasets/t10k-labels-idx1-ubyte.gz\n",
            "8192/5148 [===============================================] - 0s 0us/step\n",
            "Downloading data from https://storage.googleapis.com/tensorflow/tf-keras-datasets/t10k-images-idx3-ubyte.gz\n",
            "4423680/4422102 [==============================] - 0s 0us/step\n"
          ],
          "name": "stdout"
        },
        {
          "output_type": "execute_result",
          "data": {
            "text/plain": [
              "<matplotlib.image.AxesImage at 0x7f9ff40e76d0>"
            ]
          },
          "metadata": {
            "tags": []
          },
          "execution_count": 2
        },
        {
          "output_type": "display_data",
          "data": {
            "image/png": "[encoded data removed]",
            "text/plain": [
              "<Figure size 432x288 with 1 Axes>"
            ]
          },
          "metadata": {
            "tags": [],
            "needs_background": "light"
          }
        }
      ]
    },
    {
      "cell_type": "code",
      "metadata": {
        "colab": {
          "base_uri": "https://localhost:8080/",
          "height": 35
        },
        "id": "MgKod6n4XAPM",
        "outputId": "08120091-4f8d-4a71-b625-5b3b1f9d95fd"
      },
      "source": [
        "Y_train_raw[100]\n",
        "class_names = [\"T-shirt/top\", \"Trouser\", \"Pullover\", \"Dress\", \"Coat\", \"Sandal\", \"Shirt\", \"Sneaker\", \"Bag\", \"Ankle boot\"]\n",
        "class_names = np.array(class_names)\n",
        "class_names[Y_train_raw[100]]"
      ],
      "execution_count": 60,
      "outputs": [
        {
          "output_type": "execute_result",
          "data": {
            "application/vnd.google.colaboratory.intrinsic+json": {
              "type": "string"
            },
            "text/plain": [
              "'Bag'"
            ]
          },
          "metadata": {
            "tags": []
          },
          "execution_count": 60
        }
      ]
    },
    {
      "cell_type": "code",
      "metadata": {
        "id": "lJxlsBiaf729"
      },
      "source": [
        "X_train_Norm = X_train_raw / 255.\n",
        "X_test_Norm = X_test_raw / 255."
      ],
      "execution_count": 4,
      "outputs": []
    },
    {
      "cell_type": "code",
      "metadata": {
        "id": "ajgJFwxo_3zk"
      },
      "source": [
        "X_train, X_val, Y_train, Y_val = train_test_split(X_train_Norm, Y_train_raw, test_size = 0.1, random_state = 50)"
      ],
      "execution_count": 5,
      "outputs": []
    },
    {
      "cell_type": "markdown",
      "metadata": {
        "id": "Zh4so-23F5GS"
      },
      "source": [
        "#Sequential Model"
      ]
    },
    {
      "cell_type": "code",
      "metadata": {
        "id": "duUIB55lBvBw"
      },
      "source": [
        "model = keras.models.Sequential()\n",
        "model.add(keras.layers.Flatten(input_shape = [28,28]))\n",
        "model.add(keras.layers.Dense(300, activation='relu'))\n",
        "model.add(keras.layers.Dense(100, activation='relu'))\n",
        "model.add(keras.layers.Dense(10, activation='softmax'))\n"
      ],
      "execution_count": 6,
      "outputs": []
    },
    {
      "cell_type": "code",
      "metadata": {
        "colab": {
          "base_uri": "https://localhost:8080/"
        },
        "id": "PJ9r3ckpGed9",
        "outputId": "e331ce55-15fa-4de2-8765-3a692501223f"
      },
      "source": [
        "model.summary()"
      ],
      "execution_count": 7,
      "outputs": [
        {
          "output_type": "stream",
          "text": [
            "Model: \"sequential\"\n",
            "_________________________________________________________________\n",
            "Layer (type)                 Output Shape              Param #   \n",
            "=================================================================\n",
            "flatten (Flatten)            (None, 784)               0         \n",
            "_________________________________________________________________\n",
            "dense (Dense)                (None, 300)               235500    \n",
            "_________________________________________________________________\n",
            "dense_1 (Dense)              (None, 100)               30100     \n",
            "_________________________________________________________________\n",
            "dense_2 (Dense)              (None, 10)                1010      \n",
            "=================================================================\n",
            "Total params: 266,610\n",
            "Trainable params: 266,610\n",
            "Non-trainable params: 0\n",
            "_________________________________________________________________\n"
          ],
          "name": "stdout"
        }
      ]
    },
    {
      "cell_type": "code",
      "metadata": {
        "colab": {
          "base_uri": "https://localhost:8080/",
          "height": 466
        },
        "id": "3L0jG7ayUtXu",
        "outputId": "7a40c76b-65b6-4d4f-a223-1d69f842eb01"
      },
      "source": [
        "import pydoc\n",
        "keras.utils.plot_model(model)"
      ],
      "execution_count": 68,
      "outputs": [
        {
          "output_type": "execute_result",
          "data": {
            "image/png": "[encoded data removed]",
            "text/plain": [
              "<IPython.core.display.Image object>"
            ]
          },
          "metadata": {
            "tags": []
          },
          "execution_count": 68
        }
      ]
    },
    {
      "cell_type": "code",
      "metadata": {
        "id": "hTy4KWaqGm1L"
      },
      "source": [
        "\n",
        "model.compile(loss='sparse_categorical_crossentropy',optimizer = 'adam', metrics = ['accuracy'])"
      ],
      "execution_count": 17,
      "outputs": []
    },
    {
      "cell_type": "code",
      "metadata": {
        "colab": {
          "base_uri": "https://localhost:8080/"
        },
        "id": "A4nfTvE1INf6",
        "outputId": "1720bbdd-e731-4006-dd08-d4424fb1a4e2"
      },
      "source": [
        "model_history = model.fit(X_train, Y_train, verbose=2, epochs = 30, batch_size = 32, validation_data=(X_val,Y_val))"
      ],
      "execution_count": 18,
      "outputs": [
        {
          "output_type": "stream",
          "text": [
            "Epoch 1/30\n",
            "1688/1688 - 3s - loss: 0.2923 - accuracy: 0.9072 - val_loss: 0.6657 - val_accuracy: 0.8678\n",
            "Epoch 2/30\n",
            "1688/1688 - 3s - loss: 0.2643 - accuracy: 0.9104 - val_loss: 0.6475 - val_accuracy: 0.8782\n",
            "Epoch 3/30\n",
            "1688/1688 - 3s - loss: 0.2547 - accuracy: 0.9117 - val_loss: 0.5505 - val_accuracy: 0.8765\n",
            "Epoch 4/30\n",
            "1688/1688 - 3s - loss: 0.2457 - accuracy: 0.9131 - val_loss: 0.5397 - val_accuracy: 0.8735\n",
            "Epoch 5/30\n",
            "1688/1688 - 3s - loss: 0.2468 - accuracy: 0.9124 - val_loss: 0.5047 - val_accuracy: 0.8792\n",
            "Epoch 6/30\n",
            "1688/1688 - 3s - loss: 0.2350 - accuracy: 0.9161 - val_loss: 0.5816 - val_accuracy: 0.8753\n",
            "Epoch 7/30\n",
            "1688/1688 - 3s - loss: 0.2296 - accuracy: 0.9184 - val_loss: 0.5460 - val_accuracy: 0.8815\n",
            "Epoch 8/30\n",
            "1688/1688 - 3s - loss: 0.2285 - accuracy: 0.9187 - val_loss: 0.5606 - val_accuracy: 0.8780\n",
            "Epoch 9/30\n",
            "1688/1688 - 3s - loss: 0.2223 - accuracy: 0.9201 - val_loss: 0.5591 - val_accuracy: 0.8855\n",
            "Epoch 10/30\n",
            "1688/1688 - 3s - loss: 0.2236 - accuracy: 0.9184 - val_loss: 0.5246 - val_accuracy: 0.8868\n",
            "Epoch 11/30\n",
            "1688/1688 - 3s - loss: 0.2180 - accuracy: 0.9198 - val_loss: 0.5562 - val_accuracy: 0.8793\n",
            "Epoch 12/30\n",
            "1688/1688 - 3s - loss: 0.2137 - accuracy: 0.9221 - val_loss: 0.5640 - val_accuracy: 0.8802\n",
            "Epoch 13/30\n",
            "1688/1688 - 3s - loss: 0.2160 - accuracy: 0.9224 - val_loss: 0.5611 - val_accuracy: 0.8743\n",
            "Epoch 14/30\n",
            "1688/1688 - 3s - loss: 0.2069 - accuracy: 0.9234 - val_loss: 0.5939 - val_accuracy: 0.8838\n",
            "Epoch 15/30\n",
            "1688/1688 - 3s - loss: 0.2084 - accuracy: 0.9213 - val_loss: 0.5550 - val_accuracy: 0.8757\n",
            "Epoch 16/30\n",
            "1688/1688 - 3s - loss: 0.2116 - accuracy: 0.9236 - val_loss: 0.5613 - val_accuracy: 0.8853\n",
            "Epoch 17/30\n",
            "1688/1688 - 3s - loss: 0.1966 - accuracy: 0.9276 - val_loss: 0.5201 - val_accuracy: 0.8873\n",
            "Epoch 18/30\n",
            "1688/1688 - 3s - loss: 0.1992 - accuracy: 0.9268 - val_loss: 0.5321 - val_accuracy: 0.8868\n",
            "Epoch 19/30\n",
            "1688/1688 - 3s - loss: 0.1979 - accuracy: 0.9252 - val_loss: 0.5866 - val_accuracy: 0.8832\n",
            "Epoch 20/30\n",
            "1688/1688 - 3s - loss: 0.1937 - accuracy: 0.9287 - val_loss: 0.5695 - val_accuracy: 0.8868\n",
            "Epoch 21/30\n",
            "1688/1688 - 3s - loss: 0.1959 - accuracy: 0.9268 - val_loss: 0.5388 - val_accuracy: 0.8850\n",
            "Epoch 22/30\n",
            "1688/1688 - 3s - loss: 0.1959 - accuracy: 0.9276 - val_loss: 0.5656 - val_accuracy: 0.8843\n",
            "Epoch 23/30\n",
            "1688/1688 - 3s - loss: 0.1854 - accuracy: 0.9302 - val_loss: 0.5192 - val_accuracy: 0.8863\n",
            "Epoch 24/30\n",
            "1688/1688 - 3s - loss: 0.1825 - accuracy: 0.9314 - val_loss: 0.5352 - val_accuracy: 0.8848\n",
            "Epoch 25/30\n",
            "1688/1688 - 3s - loss: 0.1916 - accuracy: 0.9294 - val_loss: 0.4859 - val_accuracy: 0.8852\n",
            "Epoch 26/30\n",
            "1688/1688 - 3s - loss: 0.1823 - accuracy: 0.9314 - val_loss: 0.5527 - val_accuracy: 0.8863\n",
            "Epoch 27/30\n",
            "1688/1688 - 3s - loss: 0.1828 - accuracy: 0.9311 - val_loss: 0.5713 - val_accuracy: 0.8865\n",
            "Epoch 28/30\n",
            "1688/1688 - 3s - loss: 0.1815 - accuracy: 0.9319 - val_loss: 0.5303 - val_accuracy: 0.8840\n",
            "Epoch 29/30\n",
            "1688/1688 - 3s - loss: 0.1806 - accuracy: 0.9336 - val_loss: 0.5683 - val_accuracy: 0.8855\n",
            "Epoch 30/30\n",
            "1688/1688 - 3s - loss: 0.1745 - accuracy: 0.9351 - val_loss: 0.5570 - val_accuracy: 0.8802\n"
          ],
          "name": "stdout"
        }
      ]
    },
    {
      "cell_type": "code",
      "metadata": {
        "colab": {
          "base_uri": "https://localhost:8080/",
          "height": 324
        },
        "id": "J85z2lCeIyOd",
        "outputId": "f740cc52-5862-4248-b729-14801933f0d5"
      },
      "source": [
        "pd.DataFrame(model_history.history).plot(figsize=(8, 5))\n",
        "plt.grid(True)\n",
        "plt.gca().set_ylim(0, 1)\n",
        "plt.show()"
      ],
      "execution_count": 19,
      "outputs": [
        {
          "output_type": "display_data",
          "data": {
            "image/png": "[encoded data removed]",
            "text/plain": [
              "<Figure size 576x360 with 1 Axes>"
            ]
          },
          "metadata": {
            "tags": [],
            "needs_background": "light"
          }
        }
      ]
    },
    {
      "cell_type": "code",
      "metadata": {
        "colab": {
          "base_uri": "https://localhost:8080/"
        },
        "id": "_B7tGleVLYpq",
        "outputId": "232d449f-bee3-4f0a-9463-e2e905f1b57b"
      },
      "source": [
        "model.evaluate(X_test_Norm, Y_test_raw)"
      ],
      "execution_count": 21,
      "outputs": [
        {
          "output_type": "stream",
          "text": [
            "313/313 [==============================] - 1s 2ms/step - loss: 0.6773 - accuracy: 0.8700\n"
          ],
          "name": "stdout"
        },
        {
          "output_type": "execute_result",
          "data": {
            "text/plain": [
              "[0.6773421168327332, 0.8700000047683716]"
            ]
          },
          "metadata": {
            "tags": []
          },
          "execution_count": 21
        }
      ]
    },
    {
      "cell_type": "code",
      "metadata": {
        "id": "RteLD3lAM3Lu"
      },
      "source": [
        "# from random import randrange\n",
        "# r = np.zeros(3)\n",
        "# for i in range(3):\n",
        "#     r[i] = randrange(0,6001)\n",
        "\n",
        "r = np.random.randint(1,6000, size = 3)"
      ],
      "execution_count": 47,
      "outputs": []
    },
    {
      "cell_type": "code",
      "metadata": {
        "colab": {
          "base_uri": "https://localhost:8080/"
        },
        "id": "l-vUq9tnOkQM",
        "outputId": "3dfc6bcb-d666-422c-afac-e0c06760c213"
      },
      "source": [
        "r"
      ],
      "execution_count": 48,
      "outputs": [
        {
          "output_type": "execute_result",
          "data": {
            "text/plain": [
              "array([1781, 2614, 3806])"
            ]
          },
          "metadata": {
            "tags": []
          },
          "execution_count": 48
        }
      ]
    },
    {
      "cell_type": "code",
      "metadata": {
        "id": "fFmEErkvOlKq"
      },
      "source": [
        "X_new = X_test_Norm[r]\n",
        "Y_new = Y_test_raw[r]"
      ],
      "execution_count": 49,
      "outputs": []
    },
    {
      "cell_type": "code",
      "metadata": {
        "colab": {
          "base_uri": "https://localhost:8080/"
        },
        "id": "sqH2RVVIPo9D",
        "outputId": "8125fddb-ea7a-49da-fb6d-80adc4c8fb17"
      },
      "source": [
        "y_pred_probabilities = model.predict(X_new)\n",
        "y_pred_probabilities = y_pred_probabilities.round(2)\n",
        "y_pred_probabilities"
      ],
      "execution_count": 54,
      "outputs": [
        {
          "output_type": "execute_result",
          "data": {
            "text/plain": [
              "array([[0.  , 0.  , 0.  , 0.  , 0.  , 0.  , 0.  , 0.01, 0.  , 0.99],\n",
              "       [0.  , 0.  , 0.  , 0.  , 0.  , 0.  , 0.  , 0.  , 1.  , 0.  ],\n",
              "       [0.  , 0.  , 0.  , 0.  , 0.  , 0.  , 1.  , 0.  , 0.  , 0.  ]],\n",
              "      dtype=float32)"
            ]
          },
          "metadata": {
            "tags": []
          },
          "execution_count": 54
        }
      ]
    },
    {
      "cell_type": "code",
      "metadata": {
        "colab": {
          "base_uri": "https://localhost:8080/"
        },
        "id": "SXI4P1pxTfaN",
        "outputId": "f49e4dcc-f2a2-404f-f1c5-5a5adf772210"
      },
      "source": [
        "y_pred_classes = model.predict_classes(X_new)\n",
        "y_pred_classes"
      ],
      "execution_count": 56,
      "outputs": [
        {
          "output_type": "stream",
          "text": [
            "/usr/local/lib/python3.7/dist-packages/tensorflow/python/keras/engine/sequential.py:450: UserWarning: `model.predict_classes()` is deprecated and will be removed after 2021-01-01. Please use instead:* `np.argmax(model.predict(x), axis=-1)`,   if your model does multi-class classification   (e.g. if it uses a `softmax` last-layer activation).* `(model.predict(x) > 0.5).astype(\"int32\")`,   if your model does binary classification   (e.g. if it uses a `sigmoid` last-layer activation).\n",
            "  warnings.warn('`model.predict_classes()` is deprecated and '\n"
          ],
          "name": "stderr"
        },
        {
          "output_type": "execute_result",
          "data": {
            "text/plain": [
              "array([9, 8, 6])"
            ]
          },
          "metadata": {
            "tags": []
          },
          "execution_count": 56
        }
      ]
    },
    {
      "cell_type": "code",
      "metadata": {
        "colab": {
          "base_uri": "https://localhost:8080/"
        },
        "id": "JWf9C5suTwaE",
        "outputId": "3275d211-fc25-4b6f-e7df-8aa0f1788763"
      },
      "source": [
        "class_names[y_pred_classes]"
      ],
      "execution_count": 61,
      "outputs": [
        {
          "output_type": "execute_result",
          "data": {
            "text/plain": [
              "array(['Ankle boot', 'Bag', 'Shirt'], dtype='<U11')"
            ]
          },
          "metadata": {
            "tags": []
          },
          "execution_count": 61
        }
      ]
    },
    {
      "cell_type": "code",
      "metadata": {
        "colab": {
          "base_uri": "https://localhost:8080/",
          "height": 281
        },
        "id": "n2oHTOhlUFLY",
        "outputId": "fc5cc7df-3f22-449b-cc2c-0e6390dcbb2f"
      },
      "source": [
        "plt.imshow(X_test_raw[r[0]])"
      ],
      "execution_count": 64,
      "outputs": [
        {
          "output_type": "execute_result",
          "data": {
            "text/plain": [
              "<matplotlib.image.AxesImage at 0x7f9f7cc5f090>"
            ]
          },
          "metadata": {
            "tags": []
          },
          "execution_count": 64
        },
        {
          "output_type": "display_data",
          "data": {
            "image/png": "[encoded data removed]",
            "text/plain": [
              "<Figure size 432x288 with 1 Axes>"
            ]
          },
          "metadata": {
            "tags": [],
            "needs_background": "light"
          }
        }
      ]
    },
    {
      "cell_type": "code",
      "metadata": {
        "colab": {
          "base_uri": "https://localhost:8080/",
          "height": 281
        },
        "id": "PhQ-eV6gUe_s",
        "outputId": "6c572dd3-2ce7-4709-92a5-9ca4451dc2f0"
      },
      "source": [
        "plt.imshow(X_test_raw[r[1]])"
      ],
      "execution_count": 65,
      "outputs": [
        {
          "output_type": "execute_result",
          "data": {
            "text/plain": [
              "<matplotlib.image.AxesImage at 0x7f9f7cc45490>"
            ]
          },
          "metadata": {
            "tags": []
          },
          "execution_count": 65
        },
        {
          "output_type": "display_data",
          "data": {
            "image/png": "[encoded data removed]",
            "text/plain": [
              "<Figure size 432x288 with 1 Axes>"
            ]
          },
          "metadata": {
            "tags": [],
            "needs_background": "light"
          }
        }
      ]
    },
    {
      "cell_type": "code",
      "metadata": {
        "colab": {
          "base_uri": "https://localhost:8080/",
          "height": 281
        },
        "id": "5Z4hftrRUnT-",
        "outputId": "adfef0a2-c42b-4146-ed1c-8782d666d6e4"
      },
      "source": [
        "plt.imshow(X_test_raw[r[2]])"
      ],
      "execution_count": 66,
      "outputs": [
        {
          "output_type": "execute_result",
          "data": {
            "text/plain": [
              "<matplotlib.image.AxesImage at 0x7f9f7cbaa9d0>"
            ]
          },
          "metadata": {
            "tags": []
          },
          "execution_count": 66
        },
        {
          "output_type": "display_data",
          "data": {
            "image/png": "[encoded data removed]",
            "text/plain": [
              "<Figure size 432x288 with 1 Axes>"
            ]
          },
          "metadata": {
            "tags": [],
            "needs_background": "light"
          }
        }
      ]
    },
    {
      "cell_type": "code",
      "metadata": {
        "id": "o7IYbTZdUoOs"
      },
      "source": [
        ""
      ],
      "execution_count": null,
      "outputs": []
    }
  ]
}