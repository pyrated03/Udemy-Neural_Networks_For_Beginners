{
  "nbformat": 4,
  "nbformat_minor": 0,
  "metadata": {
    "colab": {
      "name": "Udemy_ANN_Course_Housing_Price_FunctionalAPI.ipynb",
      "provenance": []
    },
    "kernelspec": {
      "name": "python3",
      "display_name": "Python 3"
    },
    "language_info": {
      "name": "python"
    }
  },
  "cells": [
    {
      "cell_type": "code",
      "metadata": {
        "id": "mx73RzMwYlQV"
      },
      "source": [
        "import numpy as np\n",
        "import pandas as pd\n",
        "import matplotlib.pyplot as plt\n",
        "import tensorflow as tf\n",
        "import keras\n",
        "\n",
        "from sklearn.model_selection import train_test_split\n",
        "from sklearn.preprocessing import StandardScaler"
      ],
      "execution_count": 15,
      "outputs": []
    },
    {
      "cell_type": "code",
      "metadata": {
        "id": "nY-DonI2aqjF"
      },
      "source": [
        "from sklearn.datasets import fetch_california_housing\n",
        "housing = fetch_california_housing()"
      ],
      "execution_count": 16,
      "outputs": []
    },
    {
      "cell_type": "markdown",
      "metadata": {
        "id": "pZ4tIfiZa0zW"
      },
      "source": [
        "### Data Set Characteristics:\n",
        "\n",
        "##### Number of Instances:\n",
        " \t\n",
        "20640\n",
        "\n",
        "##### Number of Attributes:\n",
        " \t\n",
        "8 numeric, predictive attributes and the target\n",
        "\n",
        "##### Attribute Information:\n",
        " \t\n",
        "* MedInc median income in block\n",
        "* HouseAge median house age in block\n",
        "* AveRooms average number of rooms\n",
        "* AveBedrms average number of bedrooms\n",
        "* Population block population\n",
        "* AveOccup average house occupancy\n",
        "* Latitude house block latitude\n",
        "* Longitude house block longitude\n",
        "\n",
        "#### Target\n",
        "\n",
        "The target variable is the median house value in units of 100,000 for California districts."
      ]
    },
    {
      "cell_type": "code",
      "metadata": {
        "colab": {
          "base_uri": "https://localhost:8080/"
        },
        "id": "TeSZAFzqauun",
        "outputId": "76ed038d-1331-4d8a-8d1d-99e2bd29a0ef"
      },
      "source": [
        "print(housing.feature_names)"
      ],
      "execution_count": 17,
      "outputs": [
        {
          "output_type": "stream",
          "text": [
            "['MedInc', 'HouseAge', 'AveRooms', 'AveBedrms', 'Population', 'AveOccup', 'Latitude', 'Longitude']\n"
          ],
          "name": "stdout"
        }
      ]
    },
    {
      "cell_type": "code",
      "metadata": {
        "id": "NBL8gOpYa5iT"
      },
      "source": [
        "X_train_full, X_test, y_train_full, y_test = train_test_split(housing.data, housing.target, test_size = 0.1, random_state=42)\n",
        "X_train, X_valid, y_train, y_valid = train_test_split(X_train_full, y_train_full, test_size = 0.1, random_state=42)"
      ],
      "execution_count": 18,
      "outputs": []
    },
    {
      "cell_type": "code",
      "metadata": {
        "id": "Cr8xI6JibJOh"
      },
      "source": [
        "sc = StandardScaler()\n",
        "X_train_norm = sc.fit_transform(X_train)\n",
        "X_valid_norm = sc.transform(X_valid)\n",
        "X_test_norm = sc.transform(X_test)\n"
      ],
      "execution_count": 19,
      "outputs": []
    },
    {
      "cell_type": "code",
      "metadata": {
        "id": "Hgf-fkP5d7cy"
      },
      "source": [
        "y_train = np.array(y_train)\n",
        "y_valid = np.array(y_valid)\n",
        "y_test = np.array(y_test)"
      ],
      "execution_count": 20,
      "outputs": []
    },
    {
      "cell_type": "markdown",
      "metadata": {
        "id": "RC3kS4O03HOh"
      },
      "source": [
        "# Functional API"
      ]
    },
    {
      "cell_type": "markdown",
      "metadata": {
        "id": "E2F3nWR83J79"
      },
      "source": [
        "Not all neural network models are simply sequential. Some may have complex topologies. Some may have multiple inputs and/or multiple outputs. For example, a Wide & Deep neural network (see [paper](https://ai.google/research/pubs/pub45413)) connects all or part of the inputs directly to the output layer."
      ]
    },
    {
      "cell_type": "code",
      "metadata": {
        "id": "dmFCqxKdYh55"
      },
      "source": [
        "input_ = keras.layers.Input(shape=X_train_norm.shape[1:])\n",
        "hidden1 = keras.layers.Dense(30, activation=\"relu\")(input_)\n",
        "hidden2 = keras.layers.Dense(30, activation=\"relu\")(hidden1)\n",
        "concat = keras.layers.concatenate([input_, hidden2])\n",
        "output = keras.layers.Dense(1)(concat)\n",
        "model = keras.models.Model(inputs=[input_], outputs=[output])"
      ],
      "execution_count": 21,
      "outputs": []
    },
    {
      "cell_type": "code",
      "metadata": {
        "id": "UTTU3u0mYh55",
        "colab": {
          "base_uri": "https://localhost:8080/"
        },
        "outputId": "78e0286c-48a2-473d-e2b5-a39d29f722da"
      },
      "source": [
        "model.summary()"
      ],
      "execution_count": 22,
      "outputs": [
        {
          "output_type": "stream",
          "text": [
            "Model: \"model_1\"\n",
            "__________________________________________________________________________________________________\n",
            "Layer (type)                    Output Shape         Param #     Connected to                     \n",
            "==================================================================================================\n",
            "input_2 (InputLayer)            [(None, 8)]          0                                            \n",
            "__________________________________________________________________________________________________\n",
            "dense_3 (Dense)                 (None, 30)           270         input_2[0][0]                    \n",
            "__________________________________________________________________________________________________\n",
            "dense_4 (Dense)                 (None, 30)           930         dense_3[0][0]                    \n",
            "__________________________________________________________________________________________________\n",
            "concatenate_1 (Concatenate)     (None, 38)           0           input_2[0][0]                    \n",
            "                                                                 dense_4[0][0]                    \n",
            "__________________________________________________________________________________________________\n",
            "dense_5 (Dense)                 (None, 1)            39          concatenate_1[0][0]              \n",
            "==================================================================================================\n",
            "Total params: 1,239\n",
            "Trainable params: 1,239\n",
            "Non-trainable params: 0\n",
            "__________________________________________________________________________________________________\n"
          ],
          "name": "stdout"
        }
      ]
    },
    {
      "cell_type": "code",
      "metadata": {
        "id": "gZOiOhrZYh55"
      },
      "source": [
        "model.compile(loss=\"mean_squared_error\", \n",
        "              optimizer=keras.optimizers.SGD(lr=1e-3), \n",
        "              metrics=['mae'])"
      ],
      "execution_count": 23,
      "outputs": []
    },
    {
      "cell_type": "code",
      "metadata": {
        "id": "7VPcfETSYh55",
        "colab": {
          "base_uri": "https://localhost:8080/"
        },
        "outputId": "f88eb6c9-3cf7-4aea-f71f-860316db82f3"
      },
      "source": [
        "model_history = model.fit(X_train_norm, y_train, epochs=80, validation_data=(X_valid_norm, y_valid))"
      ],
      "execution_count": 24,
      "outputs": [
        {
          "output_type": "stream",
          "text": [
            "Epoch 1/80\n",
            "523/523 [==============================] - 1s 1ms/step - loss: 2.9153 - mae: 1.2595 - val_loss: 0.7717 - val_mae: 0.6284\n",
            "Epoch 2/80\n",
            "523/523 [==============================] - 1s 1ms/step - loss: 0.7101 - mae: 0.6210 - val_loss: 0.6914 - val_mae: 0.5975\n",
            "Epoch 3/80\n",
            "523/523 [==============================] - 1s 1ms/step - loss: 0.6660 - mae: 0.5944 - val_loss: 0.6586 - val_mae: 0.5779\n",
            "Epoch 4/80\n",
            "523/523 [==============================] - 2s 3ms/step - loss: 0.6154 - mae: 0.5715 - val_loss: 0.6218 - val_mae: 0.5616\n",
            "Epoch 5/80\n",
            "523/523 [==============================] - 1s 1ms/step - loss: 0.5788 - mae: 0.5524 - val_loss: 0.6030 - val_mae: 0.5542\n",
            "Epoch 6/80\n",
            "523/523 [==============================] - 1s 1ms/step - loss: 0.5604 - mae: 0.5484 - val_loss: 0.5887 - val_mae: 0.5437\n",
            "Epoch 7/80\n",
            "523/523 [==============================] - 1s 1ms/step - loss: 0.5357 - mae: 0.5286 - val_loss: 0.5640 - val_mae: 0.5350\n",
            "Epoch 8/80\n",
            "523/523 [==============================] - 1s 1ms/step - loss: 0.5229 - mae: 0.5232 - val_loss: 0.5502 - val_mae: 0.5284\n",
            "Epoch 9/80\n",
            "523/523 [==============================] - 1s 1ms/step - loss: 0.5177 - mae: 0.5188 - val_loss: 0.5422 - val_mae: 0.5234\n",
            "Epoch 10/80\n",
            "523/523 [==============================] - 1s 1ms/step - loss: 0.4998 - mae: 0.5110 - val_loss: 0.5394 - val_mae: 0.5214\n",
            "Epoch 11/80\n",
            "523/523 [==============================] - 1s 1ms/step - loss: 0.4941 - mae: 0.5098 - val_loss: 0.5242 - val_mae: 0.5151\n",
            "Epoch 12/80\n",
            "523/523 [==============================] - 1s 1ms/step - loss: 0.4865 - mae: 0.5054 - val_loss: 0.5163 - val_mae: 0.5115\n",
            "Epoch 13/80\n",
            "523/523 [==============================] - 2s 3ms/step - loss: 0.4758 - mae: 0.5019 - val_loss: 0.5180 - val_mae: 0.5105\n",
            "Epoch 14/80\n",
            "523/523 [==============================] - 1s 1ms/step - loss: 0.4741 - mae: 0.4947 - val_loss: 0.5087 - val_mae: 0.5065\n",
            "Epoch 15/80\n",
            "523/523 [==============================] - 1s 1ms/step - loss: 0.4673 - mae: 0.4929 - val_loss: 0.5003 - val_mae: 0.5022\n",
            "Epoch 16/80\n",
            "523/523 [==============================] - 1s 1ms/step - loss: 0.4452 - mae: 0.4801 - val_loss: 0.4993 - val_mae: 0.5037\n",
            "Epoch 17/80\n",
            "523/523 [==============================] - 1s 1ms/step - loss: 0.4433 - mae: 0.4828 - val_loss: 0.4964 - val_mae: 0.5003\n",
            "Epoch 18/80\n",
            "523/523 [==============================] - 1s 1ms/step - loss: 0.4530 - mae: 0.4865 - val_loss: 0.4894 - val_mae: 0.4973\n",
            "Epoch 19/80\n",
            "523/523 [==============================] - 1s 1ms/step - loss: 0.4467 - mae: 0.4812 - val_loss: 0.4862 - val_mae: 0.4923\n",
            "Epoch 20/80\n",
            "523/523 [==============================] - 1s 1ms/step - loss: 0.4426 - mae: 0.4794 - val_loss: 0.4822 - val_mae: 0.4936\n",
            "Epoch 21/80\n",
            "523/523 [==============================] - 1s 1ms/step - loss: 0.4412 - mae: 0.4771 - val_loss: 0.4788 - val_mae: 0.4911\n",
            "Epoch 22/80\n",
            "523/523 [==============================] - 1s 1ms/step - loss: 0.4433 - mae: 0.4774 - val_loss: 0.4778 - val_mae: 0.4863\n",
            "Epoch 23/80\n",
            "523/523 [==============================] - 1s 1ms/step - loss: 0.4405 - mae: 0.4759 - val_loss: 0.4736 - val_mae: 0.4847\n",
            "Epoch 24/80\n",
            "523/523 [==============================] - 1s 1ms/step - loss: 0.4266 - mae: 0.4694 - val_loss: 0.4706 - val_mae: 0.4843\n",
            "Epoch 25/80\n",
            "523/523 [==============================] - 1s 1ms/step - loss: 0.4312 - mae: 0.4747 - val_loss: 0.4679 - val_mae: 0.4822\n",
            "Epoch 26/80\n",
            "523/523 [==============================] - 1s 1ms/step - loss: 0.4185 - mae: 0.4682 - val_loss: 0.4669 - val_mae: 0.4828\n",
            "Epoch 27/80\n",
            "523/523 [==============================] - 1s 1ms/step - loss: 0.4213 - mae: 0.4627 - val_loss: 0.4638 - val_mae: 0.4821\n",
            "Epoch 28/80\n",
            "523/523 [==============================] - 1s 1ms/step - loss: 0.4243 - mae: 0.4708 - val_loss: 0.4616 - val_mae: 0.4769\n",
            "Epoch 29/80\n",
            "523/523 [==============================] - 1s 1ms/step - loss: 0.4258 - mae: 0.4689 - val_loss: 0.4601 - val_mae: 0.4791\n",
            "Epoch 30/80\n",
            "523/523 [==============================] - 1s 1ms/step - loss: 0.4222 - mae: 0.4656 - val_loss: 0.4582 - val_mae: 0.4773\n",
            "Epoch 31/80\n",
            "523/523 [==============================] - 1s 1ms/step - loss: 0.4267 - mae: 0.4655 - val_loss: 0.4557 - val_mae: 0.4760\n",
            "Epoch 32/80\n",
            "523/523 [==============================] - 1s 1ms/step - loss: 0.4076 - mae: 0.4591 - val_loss: 0.4554 - val_mae: 0.4771\n",
            "Epoch 33/80\n",
            "523/523 [==============================] - 1s 1ms/step - loss: 0.4123 - mae: 0.4615 - val_loss: 0.4512 - val_mae: 0.4721\n",
            "Epoch 34/80\n",
            "523/523 [==============================] - 1s 1ms/step - loss: 0.4092 - mae: 0.4578 - val_loss: 0.4503 - val_mae: 0.4717\n",
            "Epoch 35/80\n",
            "523/523 [==============================] - 1s 1ms/step - loss: 0.4093 - mae: 0.4593 - val_loss: 0.4491 - val_mae: 0.4718\n",
            "Epoch 36/80\n",
            "523/523 [==============================] - 1s 1ms/step - loss: 0.4062 - mae: 0.4542 - val_loss: 0.4467 - val_mae: 0.4713\n",
            "Epoch 37/80\n",
            "523/523 [==============================] - 1s 1ms/step - loss: 0.4019 - mae: 0.4543 - val_loss: 0.4464 - val_mae: 0.4721\n",
            "Epoch 38/80\n",
            "523/523 [==============================] - 1s 1ms/step - loss: 0.4017 - mae: 0.4559 - val_loss: 0.4466 - val_mae: 0.4675\n",
            "Epoch 39/80\n",
            "523/523 [==============================] - 1s 1ms/step - loss: 0.3890 - mae: 0.4462 - val_loss: 0.4421 - val_mae: 0.4693\n",
            "Epoch 40/80\n",
            "523/523 [==============================] - 1s 1ms/step - loss: 0.3938 - mae: 0.4494 - val_loss: 0.4424 - val_mae: 0.4684\n",
            "Epoch 41/80\n",
            "523/523 [==============================] - 1s 1ms/step - loss: 0.3804 - mae: 0.4437 - val_loss: 0.4384 - val_mae: 0.4646\n",
            "Epoch 42/80\n",
            "523/523 [==============================] - 1s 1ms/step - loss: 0.3905 - mae: 0.4475 - val_loss: 0.4371 - val_mae: 0.4651\n",
            "Epoch 43/80\n",
            "523/523 [==============================] - 1s 1ms/step - loss: 0.4007 - mae: 0.4518 - val_loss: 0.4355 - val_mae: 0.4617\n",
            "Epoch 44/80\n",
            "523/523 [==============================] - 1s 1ms/step - loss: 0.3904 - mae: 0.4486 - val_loss: 0.4342 - val_mae: 0.4641\n",
            "Epoch 45/80\n",
            "523/523 [==============================] - 1s 1ms/step - loss: 0.3960 - mae: 0.4476 - val_loss: 0.4353 - val_mae: 0.4637\n",
            "Epoch 46/80\n",
            "523/523 [==============================] - 1s 1ms/step - loss: 0.3959 - mae: 0.4444 - val_loss: 0.4327 - val_mae: 0.4646\n",
            "Epoch 47/80\n",
            "523/523 [==============================] - 2s 3ms/step - loss: 0.3842 - mae: 0.4403 - val_loss: 0.4321 - val_mae: 0.4636\n",
            "Epoch 48/80\n",
            "523/523 [==============================] - 1s 1ms/step - loss: 0.3822 - mae: 0.4410 - val_loss: 0.4287 - val_mae: 0.4608\n",
            "Epoch 49/80\n",
            "523/523 [==============================] - 1s 1ms/step - loss: 0.3862 - mae: 0.4437 - val_loss: 0.4268 - val_mae: 0.4594\n",
            "Epoch 50/80\n",
            "523/523 [==============================] - 1s 1ms/step - loss: 0.3848 - mae: 0.4439 - val_loss: 0.4275 - val_mae: 0.4610\n",
            "Epoch 51/80\n",
            "523/523 [==============================] - 2s 3ms/step - loss: 0.3863 - mae: 0.4413 - val_loss: 0.4258 - val_mae: 0.4597\n",
            "Epoch 52/80\n",
            "523/523 [==============================] - 1s 1ms/step - loss: 0.3855 - mae: 0.4411 - val_loss: 0.4247 - val_mae: 0.4554\n",
            "Epoch 53/80\n",
            "523/523 [==============================] - 1s 1ms/step - loss: 0.3844 - mae: 0.4416 - val_loss: 0.4227 - val_mae: 0.4550\n",
            "Epoch 54/80\n",
            "523/523 [==============================] - 1s 1ms/step - loss: 0.3794 - mae: 0.4384 - val_loss: 0.4216 - val_mae: 0.4531\n",
            "Epoch 55/80\n",
            "523/523 [==============================] - 1s 1ms/step - loss: 0.3863 - mae: 0.4397 - val_loss: 0.4199 - val_mae: 0.4539\n",
            "Epoch 56/80\n",
            "523/523 [==============================] - 1s 1ms/step - loss: 0.3799 - mae: 0.4387 - val_loss: 0.4181 - val_mae: 0.4542\n",
            "Epoch 57/80\n",
            "523/523 [==============================] - 1s 1ms/step - loss: 0.3755 - mae: 0.4343 - val_loss: 0.4219 - val_mae: 0.4556\n",
            "Epoch 58/80\n",
            "523/523 [==============================] - 1s 1ms/step - loss: 0.3660 - mae: 0.4313 - val_loss: 0.4153 - val_mae: 0.4546\n",
            "Epoch 59/80\n",
            "523/523 [==============================] - 1s 1ms/step - loss: 0.3755 - mae: 0.4362 - val_loss: 0.4171 - val_mae: 0.4529\n",
            "Epoch 60/80\n",
            "523/523 [==============================] - 1s 1ms/step - loss: 0.3814 - mae: 0.4378 - val_loss: 0.4118 - val_mae: 0.4505\n",
            "Epoch 61/80\n",
            "523/523 [==============================] - 1s 1ms/step - loss: 0.3777 - mae: 0.4376 - val_loss: 0.4138 - val_mae: 0.4500\n",
            "Epoch 62/80\n",
            "523/523 [==============================] - 1s 1ms/step - loss: 0.3728 - mae: 0.4336 - val_loss: 0.4130 - val_mae: 0.4525\n",
            "Epoch 63/80\n",
            "523/523 [==============================] - 1s 1ms/step - loss: 0.3735 - mae: 0.4362 - val_loss: 0.4116 - val_mae: 0.4471\n",
            "Epoch 64/80\n",
            "523/523 [==============================] - 1s 1ms/step - loss: 0.3827 - mae: 0.4341 - val_loss: 0.4085 - val_mae: 0.4491\n",
            "Epoch 65/80\n",
            "523/523 [==============================] - 1s 1ms/step - loss: 0.3743 - mae: 0.4313 - val_loss: 0.4091 - val_mae: 0.4445\n",
            "Epoch 66/80\n",
            "523/523 [==============================] - 1s 1ms/step - loss: 0.3645 - mae: 0.4330 - val_loss: 0.4051 - val_mae: 0.4449\n",
            "Epoch 67/80\n",
            "523/523 [==============================] - 1s 1ms/step - loss: 0.3644 - mae: 0.4290 - val_loss: 0.4067 - val_mae: 0.4454\n",
            "Epoch 68/80\n",
            "523/523 [==============================] - 1s 1ms/step - loss: 0.3729 - mae: 0.4316 - val_loss: 0.4047 - val_mae: 0.4448\n",
            "Epoch 69/80\n",
            "523/523 [==============================] - 1s 1ms/step - loss: 0.3654 - mae: 0.4289 - val_loss: 0.4059 - val_mae: 0.4472\n",
            "Epoch 70/80\n",
            "523/523 [==============================] - 1s 1ms/step - loss: 0.3717 - mae: 0.4324 - val_loss: 0.4018 - val_mae: 0.4456\n",
            "Epoch 71/80\n",
            "523/523 [==============================] - 1s 1ms/step - loss: 0.3559 - mae: 0.4229 - val_loss: 0.4023 - val_mae: 0.4440\n",
            "Epoch 72/80\n",
            "523/523 [==============================] - 1s 1ms/step - loss: 0.3551 - mae: 0.4243 - val_loss: 0.4057 - val_mae: 0.4459\n",
            "Epoch 73/80\n",
            "523/523 [==============================] - 1s 1ms/step - loss: 0.3602 - mae: 0.4247 - val_loss: 0.4008 - val_mae: 0.4433\n",
            "Epoch 74/80\n",
            "523/523 [==============================] - 1s 1ms/step - loss: 0.3595 - mae: 0.4256 - val_loss: 0.3974 - val_mae: 0.4431\n",
            "Epoch 75/80\n",
            "523/523 [==============================] - 1s 1ms/step - loss: 0.3504 - mae: 0.4215 - val_loss: 0.3988 - val_mae: 0.4420\n",
            "Epoch 76/80\n",
            "523/523 [==============================] - 1s 1ms/step - loss: 0.3656 - mae: 0.4268 - val_loss: 0.3966 - val_mae: 0.4412\n",
            "Epoch 77/80\n",
            "523/523 [==============================] - 1s 1ms/step - loss: 0.3563 - mae: 0.4186 - val_loss: 0.3952 - val_mae: 0.4394\n",
            "Epoch 78/80\n",
            "523/523 [==============================] - 1s 1ms/step - loss: 0.3587 - mae: 0.4236 - val_loss: 0.3963 - val_mae: 0.4425\n",
            "Epoch 79/80\n",
            "523/523 [==============================] - 1s 1ms/step - loss: 0.3610 - mae: 0.4241 - val_loss: 0.3951 - val_mae: 0.4391\n",
            "Epoch 80/80\n",
            "523/523 [==============================] - 1s 1ms/step - loss: 0.3532 - mae: 0.4159 - val_loss: 0.3940 - val_mae: 0.4412\n"
          ],
          "name": "stdout"
        }
      ]
    },
    {
      "cell_type": "code",
      "metadata": {
        "id": "cAYoQu3kYh56",
        "colab": {
          "base_uri": "https://localhost:8080/"
        },
        "outputId": "3def4b17-b2c1-4dfa-9724-9f670751e2e4"
      },
      "source": [
        "mae_test = model.evaluate(X_test_norm, y_test)\n"
      ],
      "execution_count": 25,
      "outputs": [
        {
          "output_type": "stream",
          "text": [
            "65/65 [==============================] - 0s 853us/step - loss: 0.3778 - mae: 0.4313\n"
          ],
          "name": "stdout"
        }
      ]
    },
    {
      "cell_type": "code",
      "metadata": {
        "colab": {
          "base_uri": "https://localhost:8080/",
          "height": 324
        },
        "id": "IbrybLrEe29M",
        "outputId": "0de0800b-2fad-4052-d939-6d50c4a221e8"
      },
      "source": [
        "pd.DataFrame(model_history.history).plot(figsize=(8, 5))\n",
        "plt.grid(True)\n",
        "plt.gca().set_ylim(0, 1)\n",
        "\n",
        "plt.show()"
      ],
      "execution_count": 26,
      "outputs": [
        {
          "output_type": "display_data",
          "data": {
            "image/png": "[encoded data removed]",
            "text/plain": [
              "<Figure size 576x360 with 1 Axes>"
            ]
          },
          "metadata": {
            "tags": [],
            "needs_background": "light"
          }
        }
      ]
    },
    {
      "cell_type": "code",
      "metadata": {
        "colab": {
          "base_uri": "https://localhost:8080/"
        },
        "id": "gonnwy7rz2Ae",
        "outputId": "73015fd1-9426-4fc2-f2fa-bf01d9335408"
      },
      "source": [
        "X_test_norm.shape"
      ],
      "execution_count": 27,
      "outputs": [
        {
          "output_type": "execute_result",
          "data": {
            "text/plain": [
              "(2064, 8)"
            ]
          },
          "metadata": {
            "tags": []
          },
          "execution_count": 27
        }
      ]
    },
    {
      "cell_type": "code",
      "metadata": {
        "colab": {
          "base_uri": "https://localhost:8080/"
        },
        "id": "0kqPlVp_yqG9",
        "outputId": "5ab2abe5-fc31-48d5-abf5-abb9cfa9d414"
      },
      "source": [
        "r = np.random.randint(1,2064, size = 3)\n",
        "r"
      ],
      "execution_count": 28,
      "outputs": [
        {
          "output_type": "execute_result",
          "data": {
            "text/plain": [
              "array([ 659, 1271, 1093])"
            ]
          },
          "metadata": {
            "tags": []
          },
          "execution_count": 28
        }
      ]
    },
    {
      "cell_type": "code",
      "metadata": {
        "id": "uJI-3eB4zzjG"
      },
      "source": [
        "X_new = X_test_norm[r]\n",
        "Y_new = y_test[r]"
      ],
      "execution_count": 29,
      "outputs": []
    },
    {
      "cell_type": "code",
      "metadata": {
        "id": "eTUv8gtV0Vwv",
        "colab": {
          "base_uri": "https://localhost:8080/"
        },
        "outputId": "ae99b816-4b6b-4ac3-cfd9-4310c46dec0f"
      },
      "source": [
        "y_pred = model.predict(X_new)\n",
        "print (y_pred)\n",
        "print(Y_new)"
      ],
      "execution_count": 30,
      "outputs": [
        {
          "output_type": "stream",
          "text": [
            "[[2.504011 ]\n",
            " [1.9311919]\n",
            " [3.0673294]]\n",
            "[2.18  1.739 4.611]\n"
          ],
          "name": "stdout"
        }
      ]
    },
    {
      "cell_type": "code",
      "metadata": {
        "id": "RzCHZkOM-9Bw"
      },
      "source": [
        ""
      ],
      "execution_count": null,
      "outputs": []
    }
  ]
}