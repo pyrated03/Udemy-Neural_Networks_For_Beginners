{
  "nbformat": 4,
  "nbformat_minor": 0,
  "metadata": {
    "colab": {
      "name": "Udemy_ANN_Course_Housing_Price.ipynb",
      "provenance": []
    },
    "kernelspec": {
      "name": "python3",
      "display_name": "Python 3"
    },
    "language_info": {
      "name": "python"
    }
  },
  "cells": [
    {
      "cell_type": "code",
      "metadata": {
        "id": "mx73RzMwYlQV"
      },
      "source": [
        "import numpy as np\n",
        "import pandas as pd\n",
        "import matplotlib.pyplot as plt\n",
        "import tensorflow as tf\n",
        "import keras\n",
        "\n",
        "from sklearn.model_selection import train_test_split\n",
        "from sklearn.preprocessing import StandardScaler"
      ],
      "execution_count": 70,
      "outputs": []
    },
    {
      "cell_type": "code",
      "metadata": {
        "id": "nY-DonI2aqjF"
      },
      "source": [
        "from sklearn.datasets import fetch_california_housing\n",
        "housing = fetch_california_housing()"
      ],
      "execution_count": 71,
      "outputs": []
    },
    {
      "cell_type": "markdown",
      "metadata": {
        "id": "pZ4tIfiZa0zW"
      },
      "source": [
        "### Data Set Characteristics:\n",
        "\n",
        "##### Number of Instances:\n",
        " \t\n",
        "20640\n",
        "\n",
        "##### Number of Attributes:\n",
        " \t\n",
        "8 numeric, predictive attributes and the target\n",
        "\n",
        "##### Attribute Information:\n",
        " \t\n",
        "* MedInc median income in block\n",
        "* HouseAge median house age in block\n",
        "* AveRooms average number of rooms\n",
        "* AveBedrms average number of bedrooms\n",
        "* Population block population\n",
        "* AveOccup average house occupancy\n",
        "* Latitude house block latitude\n",
        "* Longitude house block longitude\n",
        "\n",
        "#### Target\n",
        "\n",
        "The target variable is the median house value in units of 100,000 for California districts."
      ]
    },
    {
      "cell_type": "code",
      "metadata": {
        "colab": {
          "base_uri": "https://localhost:8080/"
        },
        "id": "TeSZAFzqauun",
        "outputId": "70f0c4c5-98ca-43b8-9b5f-c373b01eb2b0"
      },
      "source": [
        "print(housing.feature_names)"
      ],
      "execution_count": 72,
      "outputs": [
        {
          "output_type": "stream",
          "text": [
            "['MedInc', 'HouseAge', 'AveRooms', 'AveBedrms', 'Population', 'AveOccup', 'Latitude', 'Longitude']\n"
          ],
          "name": "stdout"
        }
      ]
    },
    {
      "cell_type": "code",
      "metadata": {
        "id": "NBL8gOpYa5iT"
      },
      "source": [
        "X_train_full, X_test, y_train_full, y_test = train_test_split(housing.data, housing.target, test_size = 0.1, random_state=42)\n",
        "X_train, X_valid, y_train, y_valid = train_test_split(X_train_full, y_train_full, test_size = 0.1, random_state=42)"
      ],
      "execution_count": 73,
      "outputs": []
    },
    {
      "cell_type": "code",
      "metadata": {
        "id": "Cr8xI6JibJOh"
      },
      "source": [
        "sc = StandardScaler()\n",
        "X_train_norm = sc.fit_transform(X_train)\n",
        "X_valid_norm = sc.transform(X_valid)\n",
        "X_test_norm = sc.transform(X_test)\n"
      ],
      "execution_count": 74,
      "outputs": []
    },
    {
      "cell_type": "code",
      "metadata": {
        "id": "Hgf-fkP5d7cy"
      },
      "source": [
        "y_train = np.array(y_train)\n",
        "y_valid = np.array(y_valid)\n",
        "y_test = np.array(y_test)"
      ],
      "execution_count": 75,
      "outputs": []
    },
    {
      "cell_type": "markdown",
      "metadata": {
        "id": "3jIb9u64b1ev"
      },
      "source": [
        "#Sequential Neural Network for Regression"
      ]
    },
    {
      "cell_type": "code",
      "metadata": {
        "id": "LJAaXDJWblxD"
      },
      "source": [
        "model = keras.models.Sequential()\n",
        "model.add(keras.layers.Dense(50,activation = 'relu', input_shape = [8]))\n",
        "model.add(keras.layers.Dense(10, activation = 'relu'))\n",
        "model.add(keras.layers.Dense(1, activation = 'relu'))\n"
      ],
      "execution_count": 76,
      "outputs": []
    },
    {
      "cell_type": "code",
      "metadata": {
        "colab": {
          "base_uri": "https://localhost:8080/"
        },
        "id": "NGXkvRMAcjzW",
        "outputId": "bb218d27-8f07-4112-fc09-6de12d4e285c"
      },
      "source": [
        "model.summary()\n"
      ],
      "execution_count": 77,
      "outputs": [
        {
          "output_type": "stream",
          "text": [
            "Model: \"sequential_9\"\n",
            "_________________________________________________________________\n",
            "Layer (type)                 Output Shape              Param #   \n",
            "=================================================================\n",
            "dense_19 (Dense)             (None, 50)                450       \n",
            "_________________________________________________________________\n",
            "dense_20 (Dense)             (None, 10)                510       \n",
            "_________________________________________________________________\n",
            "dense_21 (Dense)             (None, 1)                 11        \n",
            "=================================================================\n",
            "Total params: 971\n",
            "Trainable params: 971\n",
            "Non-trainable params: 0\n",
            "_________________________________________________________________\n"
          ],
          "name": "stdout"
        }
      ]
    },
    {
      "cell_type": "code",
      "metadata": {
        "id": "6VBRFrQ1czpu"
      },
      "source": [
        "model.compile(loss=\"mean_squared_error\", optimizer=keras.optimizers.SGD(lr=1e-3), metrics=['mae'])"
      ],
      "execution_count": 78,
      "outputs": []
    },
    {
      "cell_type": "code",
      "metadata": {
        "colab": {
          "base_uri": "https://localhost:8080/"
        },
        "id": "UiZZRFdUdC_j",
        "outputId": "c5b33241-e579-4cb8-9bbb-20a0302454df"
      },
      "source": [
        "model_history = model.fit(X_train_norm, y_train, epochs=40, validation_data=(X_valid_norm, y_valid))"
      ],
      "execution_count": 79,
      "outputs": [
        {
          "output_type": "stream",
          "text": [
            "Epoch 1/40\n",
            "523/523 [==============================] - 1s 2ms/step - loss: 5.5815 - mae: 2.0643 - val_loss: 5.4701 - val_mae: 2.0442\n",
            "Epoch 2/40\n",
            "523/523 [==============================] - 1s 1ms/step - loss: 5.6001 - mae: 2.0652 - val_loss: 5.4661 - val_mae: 2.0431\n",
            "Epoch 3/40\n",
            "523/523 [==============================] - 1s 1ms/step - loss: 4.7665 - mae: 1.8399 - val_loss: 1.0533 - val_mae: 0.7433\n",
            "Epoch 4/40\n",
            "523/523 [==============================] - 1s 1ms/step - loss: 0.8965 - mae: 0.6956 - val_loss: 0.7321 - val_mae: 0.6436\n",
            "Epoch 5/40\n",
            "523/523 [==============================] - 1s 1ms/step - loss: 0.6945 - mae: 0.6356 - val_loss: 0.6892 - val_mae: 0.6069\n",
            "Epoch 6/40\n",
            "523/523 [==============================] - 1s 1ms/step - loss: 0.6343 - mae: 0.5976 - val_loss: 0.6626 - val_mae: 0.5907\n",
            "Epoch 7/40\n",
            "523/523 [==============================] - 1s 1ms/step - loss: 0.6073 - mae: 0.5769 - val_loss: 0.6394 - val_mae: 0.5772\n",
            "Epoch 8/40\n",
            "523/523 [==============================] - 1s 1ms/step - loss: 0.5918 - mae: 0.5692 - val_loss: 0.6176 - val_mae: 0.5679\n",
            "Epoch 9/40\n",
            "523/523 [==============================] - 1s 1ms/step - loss: 0.5622 - mae: 0.5571 - val_loss: 0.5988 - val_mae: 0.5577\n",
            "Epoch 10/40\n",
            "523/523 [==============================] - 1s 1ms/step - loss: 0.5418 - mae: 0.5428 - val_loss: 0.5823 - val_mae: 0.5466\n",
            "Epoch 11/40\n",
            "523/523 [==============================] - 1s 1ms/step - loss: 0.5280 - mae: 0.5355 - val_loss: 0.5661 - val_mae: 0.5370\n",
            "Epoch 12/40\n",
            "523/523 [==============================] - 1s 1ms/step - loss: 0.5292 - mae: 0.5325 - val_loss: 0.5525 - val_mae: 0.5319\n",
            "Epoch 13/40\n",
            "523/523 [==============================] - 1s 1ms/step - loss: 0.5117 - mae: 0.5263 - val_loss: 0.5393 - val_mae: 0.5225\n",
            "Epoch 14/40\n",
            "523/523 [==============================] - 1s 1ms/step - loss: 0.4985 - mae: 0.5164 - val_loss: 0.5279 - val_mae: 0.5157\n",
            "Epoch 15/40\n",
            "523/523 [==============================] - 1s 1ms/step - loss: 0.4766 - mae: 0.5032 - val_loss: 0.5186 - val_mae: 0.5123\n",
            "Epoch 16/40\n",
            "523/523 [==============================] - 1s 1ms/step - loss: 0.4836 - mae: 0.5040 - val_loss: 0.5102 - val_mae: 0.5073\n",
            "Epoch 17/40\n",
            "523/523 [==============================] - 1s 1ms/step - loss: 0.4552 - mae: 0.4915 - val_loss: 0.5063 - val_mae: 0.5034\n",
            "Epoch 18/40\n",
            "523/523 [==============================] - 1s 1ms/step - loss: 0.4510 - mae: 0.4896 - val_loss: 0.4984 - val_mae: 0.5002\n",
            "Epoch 19/40\n",
            "523/523 [==============================] - 1s 1ms/step - loss: 0.4548 - mae: 0.4894 - val_loss: 0.4953 - val_mae: 0.4978\n",
            "Epoch 20/40\n",
            "523/523 [==============================] - 1s 1ms/step - loss: 0.4408 - mae: 0.4803 - val_loss: 0.4887 - val_mae: 0.4927\n",
            "Epoch 21/40\n",
            "523/523 [==============================] - 1s 1ms/step - loss: 0.4343 - mae: 0.4770 - val_loss: 0.4857 - val_mae: 0.4936\n",
            "Epoch 22/40\n",
            "523/523 [==============================] - 1s 1ms/step - loss: 0.4353 - mae: 0.4777 - val_loss: 0.4801 - val_mae: 0.4854\n",
            "Epoch 23/40\n",
            "523/523 [==============================] - 1s 1ms/step - loss: 0.4346 - mae: 0.4723 - val_loss: 0.4780 - val_mae: 0.4836\n",
            "Epoch 24/40\n",
            "523/523 [==============================] - 1s 1ms/step - loss: 0.4356 - mae: 0.4738 - val_loss: 0.4753 - val_mae: 0.4826\n",
            "Epoch 25/40\n",
            "523/523 [==============================] - 1s 1ms/step - loss: 0.4122 - mae: 0.4619 - val_loss: 0.4717 - val_mae: 0.4829\n",
            "Epoch 26/40\n",
            "523/523 [==============================] - 1s 1ms/step - loss: 0.4242 - mae: 0.4696 - val_loss: 0.4677 - val_mae: 0.4793\n",
            "Epoch 27/40\n",
            "523/523 [==============================] - 1s 1ms/step - loss: 0.4062 - mae: 0.4565 - val_loss: 0.4653 - val_mae: 0.4794\n",
            "Epoch 28/40\n",
            "523/523 [==============================] - 1s 1ms/step - loss: 0.4100 - mae: 0.4609 - val_loss: 0.4618 - val_mae: 0.4728\n",
            "Epoch 29/40\n",
            "523/523 [==============================] - 1s 1ms/step - loss: 0.4267 - mae: 0.4681 - val_loss: 0.4600 - val_mae: 0.4731\n",
            "Epoch 30/40\n",
            "523/523 [==============================] - 1s 1ms/step - loss: 0.4211 - mae: 0.4619 - val_loss: 0.4566 - val_mae: 0.4710\n",
            "Epoch 31/40\n",
            "523/523 [==============================] - 1s 1ms/step - loss: 0.3981 - mae: 0.4516 - val_loss: 0.4523 - val_mae: 0.4680\n",
            "Epoch 32/40\n",
            "523/523 [==============================] - 1s 1ms/step - loss: 0.3995 - mae: 0.4501 - val_loss: 0.4506 - val_mae: 0.4701\n",
            "Epoch 33/40\n",
            "523/523 [==============================] - 1s 1ms/step - loss: 0.3900 - mae: 0.4469 - val_loss: 0.4464 - val_mae: 0.4653\n",
            "Epoch 34/40\n",
            "523/523 [==============================] - 1s 1ms/step - loss: 0.3995 - mae: 0.4505 - val_loss: 0.4440 - val_mae: 0.4630\n",
            "Epoch 35/40\n",
            "523/523 [==============================] - 1s 1ms/step - loss: 0.4004 - mae: 0.4510 - val_loss: 0.4407 - val_mae: 0.4601\n",
            "Epoch 36/40\n",
            "523/523 [==============================] - 1s 1ms/step - loss: 0.3979 - mae: 0.4491 - val_loss: 0.4391 - val_mae: 0.4603\n",
            "Epoch 37/40\n",
            "523/523 [==============================] - 1s 1ms/step - loss: 0.3901 - mae: 0.4445 - val_loss: 0.4368 - val_mae: 0.4605\n",
            "Epoch 38/40\n",
            "523/523 [==============================] - 1s 1ms/step - loss: 0.3970 - mae: 0.4487 - val_loss: 0.4340 - val_mae: 0.4560\n",
            "Epoch 39/40\n",
            "523/523 [==============================] - 1s 1ms/step - loss: 0.4023 - mae: 0.4525 - val_loss: 0.4341 - val_mae: 0.4607\n",
            "Epoch 40/40\n",
            "523/523 [==============================] - 1s 1ms/step - loss: 0.3754 - mae: 0.4394 - val_loss: 0.4299 - val_mae: 0.4553\n"
          ],
          "name": "stdout"
        }
      ]
    },
    {
      "cell_type": "code",
      "metadata": {
        "colab": {
          "base_uri": "https://localhost:8080/"
        },
        "id": "ZZtXbw42dPFB",
        "outputId": "c7dd2710-f684-4385-c920-0f3eb9bb22a4"
      },
      "source": [
        "mae_test = model.evaluate(X_test_norm, y_test)"
      ],
      "execution_count": 80,
      "outputs": [
        {
          "output_type": "stream",
          "text": [
            "65/65 [==============================] - 0s 1ms/step - loss: 0.4197 - mae: 0.4563\n"
          ],
          "name": "stdout"
        }
      ]
    },
    {
      "cell_type": "code",
      "metadata": {
        "colab": {
          "base_uri": "https://localhost:8080/",
          "height": 324
        },
        "id": "IbrybLrEe29M",
        "outputId": "a6386416-4683-456a-d55d-7b4f4746fe7f"
      },
      "source": [
        "pd.DataFrame(model_history.history).plot(figsize=(8, 5))\n",
        "plt.grid(True)\n",
        "plt.gca().set_ylim(0, 1)\n",
        "\n",
        "plt.show()"
      ],
      "execution_count": 81,
      "outputs": [
        {
          "output_type": "display_data",
          "data": {
            "image/png": "[encoded data removed]",
            "text/plain": [
              "<Figure size 576x360 with 1 Axes>"
            ]
          },
          "metadata": {
            "tags": [],
            "needs_background": "light"
          }
        }
      ]
    },
    {
      "cell_type": "code",
      "metadata": {
        "colab": {
          "base_uri": "https://localhost:8080/"
        },
        "id": "gonnwy7rz2Ae",
        "outputId": "3b03006d-e43e-4fee-9f83-04cd30470eab"
      },
      "source": [
        "X_test_norm.shape"
      ],
      "execution_count": 82,
      "outputs": [
        {
          "output_type": "execute_result",
          "data": {
            "text/plain": [
              "(2064, 8)"
            ]
          },
          "metadata": {
            "tags": []
          },
          "execution_count": 82
        }
      ]
    },
    {
      "cell_type": "code",
      "metadata": {
        "colab": {
          "base_uri": "https://localhost:8080/"
        },
        "id": "0kqPlVp_yqG9",
        "outputId": "5b431691-3154-40de-e6ec-3bc00ad3cfd3"
      },
      "source": [
        "r = np.random.randint(1,2064, size = 3)\n",
        "r"
      ],
      "execution_count": 83,
      "outputs": [
        {
          "output_type": "execute_result",
          "data": {
            "text/plain": [
              "array([1973, 1006,  199])"
            ]
          },
          "metadata": {
            "tags": []
          },
          "execution_count": 83
        }
      ]
    },
    {
      "cell_type": "code",
      "metadata": {
        "id": "uJI-3eB4zzjG"
      },
      "source": [
        "X_new = X_test_norm[r]\n",
        "Y_new = y_test[r]"
      ],
      "execution_count": 84,
      "outputs": []
    },
    {
      "cell_type": "code",
      "metadata": {
        "id": "eTUv8gtV0Vwv"
      },
      "source": [
        "y_pred = model.predict(X_new)\n",
        "print (y_pred)\n",
        "print(Y_new)"
      ],
      "execution_count": null,
      "outputs": []
    },
    {
      "cell_type": "code",
      "metadata": {
        "id": "HctcmkP80gJg"
      },
      "source": [
        ""
      ],
      "execution_count": null,
      "outputs": []
    }
  ]
}